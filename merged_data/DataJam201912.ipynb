{
  "nbformat": 4,
  "nbformat_minor": 0,
  "metadata": {
    "colab": {
      "name": "DataJam201912.ipynb",
      "provenance": []
    },
    "kernelspec": {
      "name": "python3",
      "display_name": "Python 3"
    },
    "accelerator": "GPU"
  },
  "cells": [
    {
      "cell_type": "code",
      "metadata": {
        "id": "B83TpA3hL8go",
        "colab_type": "code",
        "outputId": "e9f5640e-d294-4f2f-f3f3-971c6deb28f3",
        "colab": {
          "base_uri": "https://localhost:8080/",
          "height": 117
        }
      },
      "source": [
        "!git clone https://github.com/houstondatavis/data-jam-december-2019.git"
      ],
      "execution_count": 4,
      "outputs": [
        {
          "output_type": "stream",
          "text": [
            "Cloning into 'data-jam-december-2019'...\n",
            "remote: Enumerating objects: 39, done.\u001b[K\n",
            "remote: Counting objects: 100% (39/39), done.\u001b[K\n",
            "remote: Compressing objects: 100% (37/37), done.\u001b[K\n",
            "remote: Total 39 (delta 9), reused 27 (delta 2), pack-reused 0\u001b[K\n",
            "Unpacking objects: 100% (39/39), done.\n"
          ],
          "name": "stdout"
        }
      ]
    },
    {
      "cell_type": "code",
      "metadata": {
        "id": "O3x4NIlTA6Um",
        "colab_type": "code",
        "colab": {}
      },
      "source": [
        "from pathlib import Path"
      ],
      "execution_count": 0,
      "outputs": []
    },
    {
      "cell_type": "code",
      "metadata": {
        "id": "vfORoamEAwoC",
        "colab_type": "code",
        "colab": {
          "base_uri": "https://localhost:8080/",
          "height": 150
        },
        "outputId": "e4125c62-f9ce-42ec-b151-ba0fc7d2775f"
      },
      "source": [
        "path = Path('data-jam-december-2019/')\n",
        "for p in path.iterdir():\n",
        "    print(p)"
      ],
      "execution_count": 7,
      "outputs": [
        {
          "output_type": "stream",
          "text": [
            "data-jam-december-2019/.git\n",
            "data-jam-december-2019/chsi_dataset\n",
            "data-jam-december-2019/Acreage_Park_System_Highlights_WEB_DATA_TABLES_City_Park_Facts_2019.xlsx\n",
            "data-jam-december-2019/Amenities_Facilities_WEB_DATA_TABLES_City_Park_Facts_2019.xlsx\n",
            "data-jam-december-2019/Staffing_Spending_Volunteers_WEB_DATA_TABLES_City_Park_Facts_2019.xlsx\n",
            "data-jam-december-2019/README.md\n",
            "data-jam-december-2019/Sp2019_HARTProject_FinalDraft.pdf\n",
            "data-jam-december-2019/Houston Needs a Swimming Hole-170101.pdf\n"
          ],
          "name": "stdout"
        }
      ]
    },
    {
      "cell_type": "code",
      "metadata": {
        "id": "UxkymMwWMjGl",
        "colab_type": "code",
        "outputId": "38e0b8a0-47cc-4832-a184-9143e66f8477",
        "colab": {
          "base_uri": "https://localhost:8080/",
          "height": 234
        }
      },
      "source": [
        "subpath = Path('data-jam-december-2019/chsi_dataset/')\n",
        "for p in subpath.iterdir():\n",
        "    print(p)"
      ],
      "execution_count": 8,
      "outputs": [
        {
          "output_type": "stream",
          "text": [
            "data-jam-december-2019/chsi_dataset/RELATIVEHEALTHIMPORTANCE.csv\n",
            "data-jam-december-2019/chsi_dataset/DATAELEMENTDESCRIPTION.csv\n",
            "data-jam-december-2019/chsi_dataset/CHSI DataSet.xls\n",
            "data-jam-december-2019/chsi_dataset/MEASURESOFBIRTHANDDEATH.csv\n",
            "data-jam-december-2019/chsi_dataset/CSV File Index.txt\n",
            "data-jam-december-2019/chsi_dataset/DEMOGRAPHICS.csv\n",
            "data-jam-december-2019/chsi_dataset/PREVENTIVESERVICESUSE.csv\n",
            "data-jam-december-2019/chsi_dataset/SUMMARYMEASURESOFHEALTH.csv\n",
            "data-jam-december-2019/chsi_dataset/LEADINGCAUSESOFDEATH.csv\n",
            "data-jam-december-2019/chsi_dataset/RISKFACTORSANDACCESSTOCARE.csv\n",
            "data-jam-december-2019/chsi_dataset/DEFINEDDATAVALUE.csv\n",
            "data-jam-december-2019/chsi_dataset/VUNERABLEPOPSANDENVHEALTH.csv\n",
            "data-jam-december-2019/chsi_dataset/HEALTHYPEOPLE2010.csv\n"
          ],
          "name": "stdout"
        }
      ]
    },
    {
      "cell_type": "code",
      "metadata": {
        "id": "pKFTZg4GNPuY",
        "colab_type": "code",
        "outputId": "ed9d9b90-5053-4bad-c385-0070e8476ecc",
        "colab": {
          "base_uri": "https://localhost:8080/",
          "height": 201
        }
      },
      "source": [
        "print((subpath / 'CSV File Index.txt').read_text())"
      ],
      "execution_count": 10,
      "outputs": [
        {
          "output_type": "stream",
          "text": [
            "DATA_ELEMENT_DESCRIPTION.csv defines each data element and indicates where its description is found in Data Sources, Definitions, and Notes.\n",
            "DEFINED_DATA_VALUE.csv defines the meaning of specific values (such as missing or suppressed data).  \n",
            "HEALTHY_PEOPLE_2010.csv identifies the Healthy People 2010 Targets and the U.S. Percentages or Rates.\n",
            "DEMOGRAPHICS.csv identifies the data elements and values in the Demographics indicator domain.\n",
            "LEADING_CAUSES_OF_DEATH.csv identifies the data elements and values in the Leading Causes of Death indicator domain.\n",
            "SUMMARY_MEASURES_OF_HEALTH.csv identifies the data elements and values in the Summary Measures of Health indicator domain.\n",
            "MEASURES_OF_BIRTH_AND_DEATH.csv identifies the data elements and values in the Measures of Birth and Death indicator domain.\n",
            "RELATIVE_HEALTH_IMPORTANCE.csv identifies the data elements and values in the Relative Health Importance indicator domain.\n",
            "VULNERABLE_POPS_AND_ENV_HEALTH.csv identifies the data elements and values in the Vulnerable Populations and Environmental Health indicator domain.\n",
            "PREVENTIVE_SERVICES_USE.csv identifies the data elements and values in the Preventive Services indicator domain.\n",
            "RISK_FACTORS_AND_ACCESS_TO_CARE.csv identifies the data elements and values in the Risk Factors and Access to Care indicator domain.\n"
          ],
          "name": "stdout"
        }
      ]
    },
    {
      "cell_type": "code",
      "metadata": {
        "id": "pipi-V0ROPv1",
        "colab_type": "code",
        "colab": {}
      },
      "source": [
        "import pandas as pd\n",
        "import os"
      ],
      "execution_count": 0,
      "outputs": []
    },
    {
      "cell_type": "code",
      "metadata": {
        "id": "bvfGtvEZNXFy",
        "colab_type": "code",
        "outputId": "4ca141a1-4999-44c9-aad2-c897c5c0b253",
        "colab": {
          "base_uri": "https://localhost:8080/",
          "height": 201
        }
      },
      "source": [
        "csvs = dict()\n",
        "for f in subpath.iterdir():\n",
        "    if os.path.splitext(f)[-1] == '.csv':\n",
        "        csvs[f.parts[-1].split('.')[0]] = pd.read_csv(f)\n",
        "for name, df in csvs.items():\n",
        "    print(f'{name}: {len(df)} records')"
      ],
      "execution_count": 15,
      "outputs": [
        {
          "output_type": "stream",
          "text": [
            "RELATIVEHEALTHIMPORTANCE: 3141 records\n",
            "DATAELEMENTDESCRIPTION: 578 records\n",
            "MEASURESOFBIRTHANDDEATH: 3141 records\n",
            "DEMOGRAPHICS: 3141 records\n",
            "PREVENTIVESERVICESUSE: 3141 records\n",
            "SUMMARYMEASURESOFHEALTH: 3141 records\n",
            "LEADINGCAUSESOFDEATH: 3141 records\n",
            "RISKFACTORSANDACCESSTOCARE: 3141 records\n",
            "DEFINEDDATAVALUE: 12 records\n",
            "VUNERABLEPOPSANDENVHEALTH: 3141 records\n",
            "HEALTHYPEOPLE2010: 22 records\n"
          ],
          "name": "stdout"
        }
      ]
    },
    {
      "cell_type": "code",
      "metadata": {
        "id": "29PDZdk9CldU",
        "colab_type": "code",
        "colab": {
          "base_uri": "https://localhost:8080/",
          "height": 1000
        },
        "outputId": "ebce07c3-3e14-455d-e58b-8e301e276635"
      },
      "source": [
        "for name, df in csvs.items():\n",
        "    print(f'{name}\\n{df.columns}')"
      ],
      "execution_count": 16,
      "outputs": [
        {
          "output_type": "stream",
          "text": [
            "RELATIVEHEALTHIMPORTANCE\n",
            "Index(['State_FIPS_Code', 'County_FIPS_Code', 'CHSI_County_Name',\n",
            "       'CHSI_State_Name', 'CHSI_State_Abbr', 'Strata_ID_Number', 'RHI_LBW_Ind',\n",
            "       'RHI_VLBW_Ind', 'RHI_Premature_Ind', 'RHI_Under_18_Ind',\n",
            "       'RHI_Over_40_Ind', 'RHI_Unmarried_Ind', 'RHI_Late_Care_Ind',\n",
            "       'RHI_Infant_Mortality_Ind', 'RHI_IM_Wh_Non_Hisp_Ind',\n",
            "       'RHI_IM_Bl_Non_Hisp_Ind', 'RHI_IM_Hisp_Ind', 'RHI_IM_Neonatal_Ind',\n",
            "       'RHI_IM_Postneonatal_Ind', 'RHI_Brst_Cancer_Ind', 'RHI_Col_Cancer_Ind',\n",
            "       'RHI_CHD_Ind', 'RHI_Homicide_Ind', 'RHI_Lung_Cancer_Ind', 'RHI_MVA_Ind',\n",
            "       'RHI_Stroke_Ind', 'RHI_Suicide_Ind', 'RHI_Injury_Ind'],\n",
            "      dtype='object')\n",
            "DATAELEMENTDESCRIPTION\n",
            "Index(['PAGE_NAME', 'COLUMN_NAME', 'DATA_TYPE', 'IS_PERCENT_DATA',\n",
            "       'DESCRIPTION', 'REFERENCE'],\n",
            "      dtype='object')\n",
            "MEASURESOFBIRTHANDDEATH\n",
            "Index(['State_FIPS_Code', 'County_FIPS_Code', 'CHSI_County_Name',\n",
            "       'CHSI_State_Name', 'CHSI_State_Abbr', 'Strata_ID_Number', 'LBW',\n",
            "       'LBW_Ind', 'Min_LBW', 'Max_LBW',\n",
            "       ...\n",
            "       'CI_Max_Suicide', 'Injury', 'Injury_Ind', 'Min_Injury', 'Max_Injury',\n",
            "       'CI_Min_Injury', 'CI_Max_Injury', 'Total_Births', 'Total_Deaths',\n",
            "       'MOBD_Time_Span'],\n",
            "      dtype='object', length=141)\n",
            "DEMOGRAPHICS\n",
            "Index(['State_FIPS_Code', 'County_FIPS_Code', 'CHSI_County_Name',\n",
            "       'CHSI_State_Name', 'CHSI_State_Abbr', 'Strata_ID_Number',\n",
            "       'Strata_Determining_Factors', 'Number_Counties', 'Population_Size',\n",
            "       'Min_Population_Size', 'Max_Population_Size', 'Population_Density',\n",
            "       'Min_Population_Density', 'Max_Population_Density', 'Poverty',\n",
            "       'Min_Poverty', 'Max_Poverty', 'Age_19_Under', 'Min_Age_19_Under',\n",
            "       'Max_Age_19_Under', 'Age_19_64', 'Min_Age_19_64', 'Max_Age_19_65',\n",
            "       'Age_65_84', 'Min_Age_65_84', 'Max_Age_65_85', 'Age_85_and_Over',\n",
            "       'Min_Age_85_and_Over', 'Max_Age_85_and_Over', 'White', 'Min_White',\n",
            "       'Max_White', 'Black', 'Min_Black', 'Max_Black', 'Native_American',\n",
            "       'Min_Native_American', 'Max_Native_American', 'Asian', 'Min_Asian',\n",
            "       'Max_Asian', 'Hispanic', 'Min_Hispanic', 'Max_Hispanic'],\n",
            "      dtype='object')\n",
            "PREVENTIVESERVICESUSE\n",
            "Index(['State_FIPS_Code', 'County_FIPS_Code', 'CHSI_County_Name',\n",
            "       'CHSI_State_Name', 'CHSI_State_Abbr', 'Strata_ID_Number', 'FluB_Rpt',\n",
            "       'FluB_Ind', 'FluB_Exp', 'HepA_Rpt', 'HepA_Ind', 'HepA_Exp', 'HepB_Rpt',\n",
            "       'HepB_Ind', 'HepB_Exp', 'Meas_Rpt', 'Meas_Ind', 'Meas_Exp', 'Pert_Rpt',\n",
            "       'Pert_Ind', 'Pert_Exp', 'CRS_Rpt', 'CRS_Ind', 'CRS_Exp', 'Syphilis_Rpt',\n",
            "       'Syphilis_Ind', 'Syphilis_Exp', 'ID_Time_Span', 'Pap_Smear',\n",
            "       'CI_Min_Pap_Smear', 'CI_Max_Pap_Smear', 'Mammogram', 'CI_Min_Mammogram',\n",
            "       'CI_Max_Mammogram', 'Proctoscopy', 'CI_Min_Proctoscopy',\n",
            "       'CI_Max_Proctoscopy', 'Pneumo_Vax', 'CI_Min_Pneumo_Vax',\n",
            "       'CI_Max_Pneumo_Vax', 'Flu_Vac', 'CI_Min_Flu_Vac', 'CI_Max_Flu_Vac'],\n",
            "      dtype='object')\n",
            "SUMMARYMEASURESOFHEALTH\n",
            "Index(['State_FIPS_Code', 'County_FIPS_Code', 'CHSI_County_Name',\n",
            "       'CHSI_State_Name', 'CHSI_State_Abbr', 'Strata_ID_Number', 'ALE',\n",
            "       'Min_ALE', 'Max_ALE', 'US_ALE', 'All_Death', 'Min_All_Death',\n",
            "       'Max_All_Death', 'US_All_Death', 'CI_Min_All_Death', 'CI_Max_All_Death',\n",
            "       'Health_Status', 'Min_Health_Status', 'Max_Health_Status',\n",
            "       'US_Health_Status', 'CI_Min_Health_Status', 'CI_Max_Health_Status',\n",
            "       'Unhealthy_Days', 'Min_Unhealthy_Days', 'Max_Unhealthy_Days',\n",
            "       'US_Unhealthy_Days', 'CI_Min_Unhealthy_Days', 'CI_Max_Unhealthy_Days'],\n",
            "      dtype='object')\n",
            "LEADINGCAUSESOFDEATH\n",
            "Index(['State_FIPS_Code', 'County_FIPS_Code', 'CHSI_County_Name',\n",
            "       'CHSI_State_Name', 'CHSI_State_Abbr', 'Strata_ID_Number', 'A_Wh_Comp',\n",
            "       'CI_Min_A_Wh_Comp', 'CI_Max_A_Wh_Comp', 'A_Bl_Comp',\n",
            "       ...\n",
            "       'F_Bl_Cancer', 'CI_Min_F_Bl_Cancer', 'CI_Max_F_Bl_Cancer',\n",
            "       'F_Ot_Cancer', 'CI_Min_F_Ot_Cancer', 'CI_Max_F_Ot_Cancer',\n",
            "       'F_Hi_Cancer', 'CI_Min_F_Hi_Cancer', 'CI_Max_F_Hi_Cancer',\n",
            "       'LCD_Time_Span'],\n",
            "      dtype='object', length=235)\n",
            "RISKFACTORSANDACCESSTOCARE\n",
            "Index(['State_FIPS_Code', 'County_FIPS_Code', 'CHSI_County_Name',\n",
            "       'CHSI_State_Name', 'CHSI_State_Abbr', 'Strata_ID_Number', 'No_Exercise',\n",
            "       'CI_Min_No_Exercise', 'CI_Max_No_Exercise', 'Few_Fruit_Veg',\n",
            "       'CI_Min_Fruit_Veg', 'CI_Max_Fruit_Veg', 'Obesity', 'CI_Min_Obesity',\n",
            "       'CI_Max_Obesity', 'High_Blood_Pres', 'CI_Min_High_Blood_Pres',\n",
            "       'CI_Max_High_Blood_Pres', 'Smoker', 'CI_Min_Smoker', 'CI_Max_Smoker',\n",
            "       'Diabetes', 'CI_Min_Diabetes', 'CI_Max_Diabetes', 'Uninsured',\n",
            "       'Elderly_Medicare', 'Disabled_Medicare', 'Prim_Care_Phys_Rate',\n",
            "       'Dentist_Rate', 'Community_Health_Center_Ind', 'HPSA_Ind'],\n",
            "      dtype='object')\n",
            "DEFINEDDATAVALUE\n",
            "Index(['Data_Value', 'Description'], dtype='object')\n",
            "VUNERABLEPOPSANDENVHEALTH\n",
            "Index(['State_FIPS_Code', 'County_FIPS_Code', 'CHSI_County_Name',\n",
            "       'CHSI_State_Name', 'CHSI_State_Abbr', 'Strata_ID_Number',\n",
            "       'No_HS_Diploma', 'Unemployed', 'Sev_Work_Disabled', 'Major_Depression',\n",
            "       'Recent_Drug_Use', 'Ecol_Rpt', 'Ecol_Rpt_Ind', 'Ecol_Exp', 'Salm_Rpt',\n",
            "       'Salm_Rpt_Ind', 'Salm_Exp', 'Shig_Rpt', 'Shig_Rpt_Ind', 'Shig_Exp',\n",
            "       'Toxic_Chem', 'Carbon_Monoxide_Ind', 'Nitrogen_Dioxide_Ind',\n",
            "       'Sulfur_Dioxide_Ind', 'Ozone_Ind', 'Particulate_Matter_Ind', 'Lead_Ind',\n",
            "       'EH_Time_Span'],\n",
            "      dtype='object')\n",
            "HEALTHYPEOPLE2010\n",
            "Index(['Categories', 'Elements', 'US_Pct_or_Rate_2003',\n",
            "       'Healthy_People_2010_Target'],\n",
            "      dtype='object')\n"
          ],
          "name": "stdout"
        }
      ]
    },
    {
      "cell_type": "code",
      "metadata": {
        "id": "FpRxAhqRNzNI",
        "colab_type": "code",
        "outputId": "7bea4fda-3185-4c3f-df1f-92ba1f1b061e",
        "colab": {
          "base_uri": "https://localhost:8080/",
          "height": 201
        }
      },
      "source": [
        "for name, df in csvs.items():\n",
        "    if 'State_FIPS_Code' in df.columns and 'County_FIPS_Code' in df.columns:\n",
        "        csvs[name] = df.set_index(['State_FIPS_Code', 'County_FIPS_Code'])\n",
        "        print(f'{name} index set')\n",
        "    else:\n",
        "        print(f'{name} index NOT set')"
      ],
      "execution_count": 17,
      "outputs": [
        {
          "output_type": "stream",
          "text": [
            "RELATIVEHEALTHIMPORTANCE index set\n",
            "DATAELEMENTDESCRIPTION index NOT set\n",
            "MEASURESOFBIRTHANDDEATH index set\n",
            "DEMOGRAPHICS index set\n",
            "PREVENTIVESERVICESUSE index set\n",
            "SUMMARYMEASURESOFHEALTH index set\n",
            "LEADINGCAUSESOFDEATH index set\n",
            "RISKFACTORSANDACCESSTOCARE index set\n",
            "DEFINEDDATAVALUE index NOT set\n",
            "VUNERABLEPOPSANDENVHEALTH index set\n",
            "HEALTHYPEOPLE2010 index NOT set\n"
          ],
          "name": "stdout"
        }
      ]
    },
    {
      "cell_type": "code",
      "metadata": {
        "id": "ZYANK0ljeUlL",
        "colab_type": "code",
        "outputId": "6b3edfec-88a9-4ea5-b705-fd39e94f3dae",
        "colab": {
          "base_uri": "https://localhost:8080/",
          "height": 201
        }
      },
      "source": [
        "data = None\n",
        "for name, df in csvs.items():\n",
        "    if 'State_FIPS_Code' in df.index.names and 'County_FIPS_Code' in df.index.names:\n",
        "        if data is None:\n",
        "            data = df\n",
        "        else:\n",
        "            data = data.join(df, lsuffix=\"_\" + name)\n",
        "print(data.columns)"
      ],
      "execution_count": 18,
      "outputs": [
        {
          "output_type": "stream",
          "text": [
            "Index(['CHSI_County_Name_MEASURESOFBIRTHANDDEATH',\n",
            "       'CHSI_State_Name_MEASURESOFBIRTHANDDEATH',\n",
            "       'CHSI_State_Abbr_MEASURESOFBIRTHANDDEATH',\n",
            "       'Strata_ID_Number_MEASURESOFBIRTHANDDEATH', 'RHI_LBW_Ind',\n",
            "       'RHI_VLBW_Ind', 'RHI_Premature_Ind', 'RHI_Under_18_Ind',\n",
            "       'RHI_Over_40_Ind', 'RHI_Unmarried_Ind',\n",
            "       ...\n",
            "       'Shig_Rpt_Ind', 'Shig_Exp', 'Toxic_Chem', 'Carbon_Monoxide_Ind',\n",
            "       'Nitrogen_Dioxide_Ind', 'Sulfur_Dioxide_Ind', 'Ozone_Ind',\n",
            "       'Particulate_Matter_Ind', 'Lead_Ind', 'EH_Time_Span'],\n",
            "      dtype='object', length=562)\n"
          ],
          "name": "stdout"
        }
      ]
    },
    {
      "cell_type": "code",
      "metadata": {
        "id": "02EFrcmymOqq",
        "colab_type": "code",
        "colab": {}
      },
      "source": [
        "data.to_csv('FIPS_data.csv')"
      ],
      "execution_count": 0,
      "outputs": []
    },
    {
      "cell_type": "code",
      "metadata": {
        "id": "RrrAKi_5HO1_",
        "colab_type": "code",
        "colab": {}
      },
      "source": [
        "from google.colab import files\n",
        "\n",
        "files.download('FIPS_data.csv')"
      ],
      "execution_count": 0,
      "outputs": []
    },
    {
      "cell_type": "code",
      "metadata": {
        "id": "W-Uysh2nHWKB",
        "colab_type": "code",
        "colab": {}
      },
      "source": [
        ""
      ],
      "execution_count": 0,
      "outputs": []
    }
  ]
}